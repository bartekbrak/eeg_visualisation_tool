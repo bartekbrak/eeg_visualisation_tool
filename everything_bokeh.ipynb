{
 "cells": [
  {
   "cell_type": "markdown",
   "metadata": {},
   "source": [
    "-- where to get sample videos\n",
    "\n",
    "    ```html\n",
    "    <video controls> \n",
    "      <source src=http://techslides.com/demos/sample-videos/small.webm type=video/webm> \n",
    "      <source src=http://techslides.com/demos/sample-videos/small.ogv type=video/ogg> \n",
    "      <source src=http://techslides.com/demos/sample-videos/small.mp4 type=video/mp4>\n",
    "      <source src=http://techslides.com/demos/sample-videos/small.3gp type=video/3gp>\n",
    "    </video>\n",
    "    ```"
   ]
  },
  {
   "cell_type": "code",
   "execution_count": 1,
   "metadata": {
    "collapsed": true
   },
   "outputs": [],
   "source": [
    "bokeh_tags = !git ls-remote --tags https://github.com/bokeh/bokeh.git"
   ]
  },
  {
   "cell_type": "code",
   "execution_count": 4,
   "metadata": {
    "collapsed": false
   },
   "outputs": [
    {
     "name": "stdout",
     "output_type": "stream",
     "text": [
      "0.9.1\n",
      "0.9.1\n",
      "0.9.1\n"
     ]
    },
    {
     "ename": "AttributeError",
     "evalue": "'Settings' object has no attribute 'notebook_resources'",
     "output_type": "error",
     "traceback": [
      "\u001b[1;31m---------------------------------------------------------------------------\u001b[0m",
      "\u001b[1;31mAttributeError\u001b[0m                            Traceback (most recent call last)",
      "\u001b[1;32m<ipython-input-4-7f5cd8d20c4a>\u001b[0m in \u001b[0;36m<module>\u001b[1;34m()\u001b[0m\n\u001b[0;32m      6\u001b[0m     \u001b[0mget_ipython\u001b[0m\u001b[1;33m(\u001b[0m\u001b[1;33m)\u001b[0m\u001b[1;33m.\u001b[0m\u001b[0msystem\u001b[0m\u001b[1;33m(\u001b[0m\u001b[1;34mu'pip --isolated install --quiet bokeh==$tag'\u001b[0m\u001b[1;33m)\u001b[0m\u001b[1;33m\u001b[0m\u001b[0m\n\u001b[0;32m      7\u001b[0m     \u001b[1;32mtry\u001b[0m\u001b[1;33m:\u001b[0m\u001b[1;33m\u001b[0m\u001b[0m\n\u001b[1;32m----> 8\u001b[1;33m         \u001b[0mreload\u001b[0m\u001b[1;33m(\u001b[0m\u001b[0mbokeh\u001b[0m\u001b[1;33m)\u001b[0m\u001b[1;33m\u001b[0m\u001b[0m\n\u001b[0m\u001b[0;32m      9\u001b[0m         \u001b[1;32mprint\u001b[0m \u001b[0mbokeh\u001b[0m\u001b[1;33m.\u001b[0m\u001b[0m__version__\u001b[0m\u001b[1;33m\u001b[0m\u001b[0m\n\u001b[0;32m     10\u001b[0m \u001b[1;31m#         from bokeh.models.actions import Callback\u001b[0m\u001b[1;33m\u001b[0m\u001b[1;33m\u001b[0m\u001b[0m\n",
      "\u001b[1;32m/home/bartek/.virtualenvs/eeg_visualisation_tool/local/lib/python2.7/site-packages/bokeh/__init__.pyc\u001b[0m in \u001b[0;36m<module>\u001b[1;34m()\u001b[0m\n\u001b[0;32m     84\u001b[0m \u001b[1;31m# load the notebook by default but let the door open for customization, also\u001b[0m\u001b[1;33m\u001b[0m\u001b[1;33m\u001b[0m\u001b[0m\n\u001b[0;32m     85\u001b[0m \u001b[1;31m# fail silently if IPython is not there.\u001b[0m\u001b[1;33m\u001b[0m\u001b[1;33m\u001b[0m\u001b[0m\n\u001b[1;32m---> 86\u001b[1;33m \u001b[0mresources\u001b[0m \u001b[1;33m=\u001b[0m \u001b[0msettings\u001b[0m\u001b[1;33m.\u001b[0m\u001b[0mnotebook_resources\u001b[0m\u001b[1;33m(\u001b[0m\u001b[1;33m)\u001b[0m\u001b[1;33m\u001b[0m\u001b[0m\n\u001b[0m\u001b[0;32m     87\u001b[0m \u001b[0mverbose\u001b[0m \u001b[1;33m=\u001b[0m \u001b[0msettings\u001b[0m\u001b[1;33m.\u001b[0m\u001b[0mnotebook_verbose\u001b[0m\u001b[1;33m(\u001b[0m\u001b[1;33m)\u001b[0m\u001b[1;33m\u001b[0m\u001b[0m\n\u001b[0;32m     88\u001b[0m \u001b[0mhide_banner\u001b[0m \u001b[1;33m=\u001b[0m \u001b[0msettings\u001b[0m\u001b[1;33m.\u001b[0m\u001b[0mnotebook_hide_banner\u001b[0m\u001b[1;33m(\u001b[0m\u001b[1;33m)\u001b[0m\u001b[1;33m\u001b[0m\u001b[0m\n",
      "\u001b[1;31mAttributeError\u001b[0m: 'Settings' object has no attribute 'notebook_resources'"
     ]
    }
   ],
   "source": [
    "import re\n",
    "RELEASE_TAG = re.compile('.*\\trefs/tags/([0-9.]+)$')\n",
    "release_tags = [RELEASE_TAG.search(tag).group(1) for tag in bokeh_tags if RELEASE_TAG.match(tag)]\n",
    "import bokeh\n",
    "for tag in reversed(release_tags):\n",
    "    !pip --isolated install --quiet bokeh==$tag\n",
    "    try:\n",
    "        reload(bokeh)\n",
    "        print bokeh.__version__\n",
    "#         from bokeh.models.actions import Callback\n",
    "#         print 'yes', tag\n",
    "    except ImportError:\n",
    "        print 'no', tag\n",
    "\n",
    "# this will not work"
   ]
  },
  {
   "cell_type": "code",
   "execution_count": 15,
   "metadata": {
    "collapsed": false
   },
   "outputs": [
    {
     "name": "stdout",
     "output_type": "stream",
     "text": [
      "0.9.1\n",
      "0.9.0\n",
      "0.8.2\n",
      "Traceback (most recent call last):\n",
      "  File \"<string>\", line 1, in <module>\n",
      "ImportError: cannot import name Callback\n",
      "bokeh==0.9.1\n"
     ]
    }
   ],
   "source": [
    "!pip --isolated uninstall --yes --quiet bokeh\n",
    "as_bash = '''\n",
    "tags=$(git ls-remote --tags https://github.com/bokeh/bokeh.git| awk '{print $2;}' | egrep '/([0-9.]+)$' | cut -d\"/\" -f3 | sort -r)\n",
    "set -e\n",
    "for tag in ${tags[@]}\n",
    "do\n",
    "    echo $tag\n",
    "    pip --isolated install --quiet bokeh==$tag\n",
    "    python -c 'from bokeh.models.actions import Callback'\n",
    "    \n",
    "done\n",
    "\n",
    "'''\n",
    "with open('as_bash.sh', 'w') as f:\n",
    "    f.write(as_bash)\n",
    "!bash as_bash.sh\n",
    "!pip --isolated install --quiet --upgrade bokeh\n",
    "!pip freeze | grep bokeh"
   ]
  }
 ],
 "metadata": {
  "kernelspec": {
   "display_name": "Python 2",
   "language": "python",
   "name": "python2"
  },
  "language_info": {
   "codemirror_mode": {
    "name": "ipython",
    "version": 2
   },
   "file_extension": ".py",
   "mimetype": "text/x-python",
   "name": "python",
   "nbconvert_exporter": "python",
   "pygments_lexer": "ipython2",
   "version": "2.7.9"
  }
 },
 "nbformat": 4,
 "nbformat_minor": 0
}
