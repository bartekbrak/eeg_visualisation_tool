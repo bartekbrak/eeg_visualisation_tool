{
 "cells": [
  {
   "cell_type": "code",
   "execution_count": 1,
   "metadata": {
    "collapsed": false
   },
   "outputs": [
    {
     "name": "stderr",
     "output_type": "stream",
     "text": [
      "ERROR:/home/bartek/.virtualenvs/eeg_visualisation_tool/local/lib/python2.7/site-packages/bokeh/validation/check.pyc:W-1001 (NO_GLYPH_RENDERERS): Plot has no glyph renderers: Figure, ViewModel:Plot, ref _id: 8ed0004f-2084-4880-b700-94da6ccc32b1\n"
     ]
    }
   ],
   "source": [
    "from bokeh.plotting import output_file, show\n",
    "from bokeh.plotting import figure\n",
    "output_file('korz.html')\n",
    "show(figure())"
   ]
  },
  {
   "cell_type": "markdown",
   "metadata": {},
   "source": [
    "<video\n",
    "    id=\"video-active\"\n",
    "    class=\"video-active\"\n",
    "    width=\"640\"\n",
    "    height=\"390\"\n",
    "    controls=\"controls\">\n",
    "    <source src=\"myvideo.mp4\" type=\"video/mp4\">\n",
    "</video>"
   ]
  }
 ],
 "metadata": {
  "kernelspec": {
   "display_name": "Python 2",
   "language": "python",
   "name": "python2"
  },
  "language_info": {
   "codemirror_mode": {
    "name": "ipython",
    "version": 2
   },
   "file_extension": ".py",
   "mimetype": "text/x-python",
   "name": "python",
   "nbconvert_exporter": "python",
   "pygments_lexer": "ipython2",
   "version": "2.7.9"
  }
 },
 "nbformat": 4,
 "nbformat_minor": 0
}
